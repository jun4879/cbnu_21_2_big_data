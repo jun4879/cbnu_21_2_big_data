{
 "cells": [
  {
   "cell_type": "code",
   "execution_count": 1,
   "metadata": {},
   "outputs": [
    {
     "ename": "ModuleNotFoundError",
     "evalue": "No module named 'pandas'",
     "output_type": "error",
     "traceback": [
      "\u001b[0;31m---------------------------------------------------------------------------\u001b[0m",
      "\u001b[0;31mModuleNotFoundError\u001b[0m                       Traceback (most recent call last)",
      "\u001b[0;32m/var/folders/x0/qjtmgvdd1sbcn0d3r8tg25kw0000gn/T/ipykernel_82088/560830184.py\u001b[0m in \u001b[0;36m<module>\u001b[0;34m\u001b[0m\n\u001b[0;32m----> 1\u001b[0;31m \u001b[0;32mfrom\u001b[0m \u001b[0mpandas\u001b[0m \u001b[0;32mimport\u001b[0m \u001b[0mread_excel\u001b[0m\u001b[0;34m\u001b[0m\u001b[0;34m\u001b[0m\u001b[0m\n\u001b[0m\u001b[1;32m      2\u001b[0m \u001b[0mread_excel\u001b[0m\u001b[0;34m(\u001b[0m\u001b[0;34m'./Welding Data Set_01.xlsx'\u001b[0m\u001b[0;34m)\u001b[0m\u001b[0;34m\u001b[0m\u001b[0;34m\u001b[0m\u001b[0m\n",
      "\u001b[0;31mModuleNotFoundError\u001b[0m: No module named 'pandas'"
     ]
    }
   ],
   "source": [
    "from pandas import read_excel\n",
    "read_excel('./Welding Data Set_01.xlsx')"
   ]
  },
  {
   "cell_type": "code",
   "execution_count": null,
   "metadata": {},
   "outputs": [],
   "source": [
    "## 필요한 패키지 설치\n",
    "from torch.utils.data import DataLoader\n",
    "from torch.utils.data import TensorDataset\n",
    "import torch\n",
    "import numpy as np\n",
    "import pandas as pd\n",
    "import sklearn.metrics as metric\n",
    "from sklearn import preprocessing\n",
    "import torch.nn as nn\n",
    "import matplotlib.pyplot as plt"
   ]
  },
  {
   "cell_type": "code",
   "execution_count": null,
   "metadata": {},
   "outputs": [],
   "source": [
    "##pandas의 read_excel함수를 사용하여 데이터 불러옴, 또한 index_col = “열 이름” 을 사용하여 인덱스 열 설정\n",
    "welding_data = pd.read_excel(\"./Welding Data Set_01.xlsx\", index_col =\"idx\")\n",
    "welding_data.head()\n",
    "#결과는 아래에서 확인 가능하다."
   ]
  },
  {
   "cell_type": "code",
   "execution_count": null,
   "metadata": {},
   "outputs": [],
   "source": [
    "## 데이터의 특성들이 어떤 값들을 가지고 있으며 몇 개씩 가지고 있는지 확인\n",
    "for feature in welding_data:\n",
    "     print(feature, welding_data[feature].value_counts()) #결과는 아래에서 확인 가능하다."
   ]
  },
  {
   "cell_type": "code",
   "execution_count": null,
   "metadata": {},
   "outputs": [],
   "source": [
    "welding_data.describe()  #결과는 아래에서 확인 가능하다."
   ]
  },
  {
   "cell_type": "code",
   "execution_count": null,
   "metadata": {},
   "outputs": [],
   "source": [
    "welding_data.corr()  #결과는 아래에서 확인 가능하다."
   ]
  },
  {
   "cell_type": "code",
   "execution_count": null,
   "metadata": {},
   "outputs": [],
   "source": [
    "## 히스토그램을 그리기 위한 for 구문\n",
    "b = [15,15,15,15,15,25,13,17,15]\n",
    "for index, value in enumerate(welding_data.columns):\n",
    "    plt.figure(index)\n",
    "    plt.hist(welding_data[value], bins = b[index], facecolor = (144 /255,171 /255,221 /255))\n",
    "    plt.title(value)\n"
   ]
  },
  {
   "cell_type": "code",
   "execution_count": null,
   "metadata": {},
   "outputs": [],
   "source": [
    "## 용접기 데이터에서 필요없는 부분(생산품목, 작업시간, 소재두께)들을 제외\n",
    "new_welding_data = welding_data.iloc[:, 5:]\n",
    "new_welding_data.head()  #결과는 아래에서 확인 가능하다."
   ]
  },
  {
   "cell_type": "code",
   "execution_count": null,
   "metadata": {},
   "outputs": [],
   "source": [
    "## sklearn의 preprocessing모듈에 들어있는 MinMaxScaler함수를 이용해 정규화 적용\n",
    "scaler = preprocessing.MinMaxScaler()\n",
    "scaler.fit(new_welding_data)\n",
    "scaled_data = scaler.transform(new_welding_data)"
   ]
  },
  {
   "cell_type": "code",
   "execution_count": null,
   "metadata": {},
   "outputs": [],
   "source": [
    "## AutoEncoder 클래스 구현 \n",
    "class AutoEncoder(nn.Module):\n",
    "    def __init__(self, input_size, hidden_size, output_size):\n",
    "        super(AutoEncoder, self).__init__()\n",
    "        ## initialize\n",
    "        self.input_size = input_size\n",
    "        self.hidden_size = hidden_size\n",
    "        self.output_size = output_size\n",
    "        ##오토인코더 구현\n",
    "        self.AutoEncoder = nn.Sequential(\n",
    "        ## 인코더 부분\n",
    "        nn.Linear(input_size, hidden_size[0]),\n",
    "        nn.RReLU(),\n",
    "        nn.Linear(hidden_size[0], output_size),\n",
    "        nn.RReLU(),\n",
    "        ## 디코더 부분\n",
    "        nn.Linear(output_size, hidden_size[0]),\n",
    "        nn.RReLU(),\n",
    "        nn.Linear(hidden_size[0], input_size)\n",
    "        )\n",
    "    def forward(self, inputs): \n",
    "        output =self.AutoEncoder(inputs)\n",
    "   \n",
    "        return output"
   ]
  },
  {
   "cell_type": "code",
   "execution_count": null,
   "metadata": {},
   "outputs": [],
   "source": [
    "##기존이 데이터를 텐서 형태로 변환, 그리고 훈련세트와 테스트세트로 나눔\n",
    "train_data = torch.Tensor(scaled_data[:8470]) ## [:8470] 처음부터 8469번까지의 데이터를 훈련세트로 지정  \n",
    "print(len(train_data))\n",
    "test_data = torch.Tensor(scaled_data[8470:]) ## [8470:] 8470번째 데이터부터 끝까지를 테스트세트로 지정\n",
    "print(len(test_data))  #결과는 아래에서 확인 가능하다."
   ]
  },
  {
   "cell_type": "code",
   "execution_count": null,
   "metadata": {},
   "outputs": [],
   "source": [
    "## 훈련 하이퍼파라미터\n",
    "epoch =50\n",
    "batch_size =64\n",
    "lr =0.01\n",
    "## 모델 하이퍼파라미터\n",
    "input_size =len(train_data[0])\n",
    "hidden_size = [3]\n",
    "output_size =2\n",
    "## 손실 함수로 제곱근 오차 사용\n",
    "criterion = nn.MSELoss()\n",
    "## 매개변수 조정 방식으로 Adam사용\n",
    "optimizer = torch.optim.Adam\n",
    "##오토인코더 정의\n",
    "AutoEncoder = AutoEncoder(input_size, hidden_size, output_size) "
   ]
  },
  {
   "cell_type": "code",
   "execution_count": null,
   "metadata": {},
   "outputs": [],
   "source": [
    "## 학습 함수에 대한 정의\n",
    "def train_net(AutoEncoder, data, criterion, epochs, lr_rate =0.01):\n",
    "## Optimizer에 대한 정의\n",
    "    optim = optimizer(AutoEncoder.parameters(), lr =lr_rate)\n",
    "## 배치 학습을 시키기 위한 데이터 변환\n",
    "    data_iter = DataLoader(data, batch_size =batch_size, shuffle =True)\n",
    "## 에포크 학습\n",
    "    for epoch in range(1, epochs +1):\n",
    "        running_loss =0.0\n",
    "        for x in data_iter:\n",
    "            ## 매개변수 0으로 초기화\n",
    "            optim.zero_grad()\n",
    "            output = AutoEncoder(x)\n",
    "            ## 입력값과 출력값간의 차이인 손실값 \n",
    "            loss = criterion(x, output)\n",
    "            ## 손실값을 기준으로 매개변수 조정\n",
    "            loss.backward()\n",
    "            optim.step()\n",
    "            running_loss += loss.item()\n",
    "            \n",
    "        ## 각 에포크마다 손실 값 표기\n",
    "        print(\"epoch: {}, loss: {:.2f}\".format(epoch, running_loss))\n",
    "    return AutoEncoder"
   ]
  },
  {
   "cell_type": "code",
   "execution_count": null,
   "metadata": {},
   "outputs": [],
   "source": [
    "## 학습 함수를 이용한 오토인코더 학습\n",
    "AutoEncoder = train_net(AutoEncoder, train_data, criterion, epoch, lr)"
   ]
  },
  {
   "cell_type": "code",
   "execution_count": null,
   "metadata": {},
   "outputs": [],
   "source": [
    "## 훈련세트의 손실값 이용한 임계값 정의\n",
    "train_loss_chart = []\n",
    "for data in train_data:\n",
    "    output = AutoEncoder(data)\n",
    "    loss = criterion(output, data)\n",
    "    train_loss_chart.append(loss.item())\n",
    "    \n",
    "threshold = np.mean(train_loss_chart) + np.std(train_loss_chart)*4\n",
    "print(\"Threshold :\", threshold)  #결과는 아래에서 확인 가능하다."
   ]
  },
  {
   "cell_type": "code",
   "execution_count": null,
   "metadata": {},
   "outputs": [],
   "source": [
    "## 훈련세트의 손실값 이용한 임계값 정의\n",
    "test_loss_chart = []\n",
    "for data in train_data:\n",
    "    output = AutoEncoder(data)\n",
    "    loss = criterion(output, data)\n",
    "    test_loss_chart.append(loss.item())\n",
    "\n",
    "outlier = list(test_loss_chart >= threshold)\n",
    "outlier.count(True)  #결과는 아래에서 확인 가능하다."
   ]
  }
 ],
 "metadata": {
  "kernelspec": {
   "display_name": "Python 3 (ipykernel)",
   "language": "python",
   "name": "python3"
  },
  "language_info": {
   "codemirror_mode": {
    "name": "ipython",
    "version": 3
   },
   "file_extension": ".py",
   "mimetype": "text/x-python",
   "name": "python",
   "nbconvert_exporter": "python",
   "pygments_lexer": "ipython3",
   "version": "3.8.11"
  }
 },
 "nbformat": 4,
 "nbformat_minor": 4
}
