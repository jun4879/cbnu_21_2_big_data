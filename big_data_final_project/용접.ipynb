{
 "cells": [
  {
   "cell_type": "code",
   "execution_count": 1,
   "metadata": {
    "execution": {
     "iopub.execute_input": "2021-12-06T07:17:44.650874Z",
     "iopub.status.busy": "2021-12-06T07:17:44.650722Z",
     "iopub.status.idle": "2021-12-06T07:17:47.855154Z",
     "shell.execute_reply": "2021-12-06T07:17:47.854349Z",
     "shell.execute_reply.started": "2021-12-06T07:17:44.650874Z"
    }
   },
   "outputs": [
    {
     "data": {
      "text/html": [
       "<div>\n",
       "<style scoped>\n",
       "    .dataframe tbody tr th:only-of-type {\n",
       "        vertical-align: middle;\n",
       "    }\n",
       "\n",
       "    .dataframe tbody tr th {\n",
       "        vertical-align: top;\n",
       "    }\n",
       "\n",
       "    .dataframe thead th {\n",
       "        text-align: right;\n",
       "    }\n",
       "</style>\n",
       "<table border=\"1\" class=\"dataframe\">\n",
       "  <thead>\n",
       "    <tr style=\"text-align: right;\">\n",
       "      <th></th>\n",
       "      <th>idx</th>\n",
       "      <th>Machine_Name</th>\n",
       "      <th>Item No</th>\n",
       "      <th>working time</th>\n",
       "      <th>Thickness 1(mm)</th>\n",
       "      <th>Thickness 2(mm)</th>\n",
       "      <th>weld force(bar)</th>\n",
       "      <th>weld current(kA)</th>\n",
       "      <th>weld Voltage(v)</th>\n",
       "      <th>weld time(ms)</th>\n",
       "    </tr>\n",
       "  </thead>\n",
       "  <tbody>\n",
       "    <tr>\n",
       "      <th>0</th>\n",
       "      <td>1</td>\n",
       "      <td>Spot-01</td>\n",
       "      <td>65235-25800</td>\n",
       "      <td>2020-03-24</td>\n",
       "      <td>0.7</td>\n",
       "      <td>0.7</td>\n",
       "      <td>2.33</td>\n",
       "      <td>14.57</td>\n",
       "      <td>2.701</td>\n",
       "      <td>72.0</td>\n",
       "    </tr>\n",
       "    <tr>\n",
       "      <th>1</th>\n",
       "      <td>2</td>\n",
       "      <td>Spot-01</td>\n",
       "      <td>65235-25800</td>\n",
       "      <td>2020-03-24</td>\n",
       "      <td>0.7</td>\n",
       "      <td>0.7</td>\n",
       "      <td>2.36</td>\n",
       "      <td>14.57</td>\n",
       "      <td>2.701</td>\n",
       "      <td>72.0</td>\n",
       "    </tr>\n",
       "    <tr>\n",
       "      <th>2</th>\n",
       "      <td>3</td>\n",
       "      <td>Spot-01</td>\n",
       "      <td>65235-25800</td>\n",
       "      <td>2020-03-24</td>\n",
       "      <td>0.7</td>\n",
       "      <td>0.7</td>\n",
       "      <td>2.37</td>\n",
       "      <td>14.54</td>\n",
       "      <td>2.703</td>\n",
       "      <td>71.0</td>\n",
       "    </tr>\n",
       "    <tr>\n",
       "      <th>3</th>\n",
       "      <td>4</td>\n",
       "      <td>Spot-01</td>\n",
       "      <td>65235-25800</td>\n",
       "      <td>2020-03-24</td>\n",
       "      <td>0.7</td>\n",
       "      <td>0.7</td>\n",
       "      <td>2.37</td>\n",
       "      <td>14.54</td>\n",
       "      <td>2.703</td>\n",
       "      <td>72.0</td>\n",
       "    </tr>\n",
       "    <tr>\n",
       "      <th>4</th>\n",
       "      <td>5</td>\n",
       "      <td>Spot-01</td>\n",
       "      <td>65235-25800</td>\n",
       "      <td>2020-03-24</td>\n",
       "      <td>0.7</td>\n",
       "      <td>0.7</td>\n",
       "      <td>2.36</td>\n",
       "      <td>14.56</td>\n",
       "      <td>2.704</td>\n",
       "      <td>72.0</td>\n",
       "    </tr>\n",
       "    <tr>\n",
       "      <th>...</th>\n",
       "      <td>...</td>\n",
       "      <td>...</td>\n",
       "      <td>...</td>\n",
       "      <td>...</td>\n",
       "      <td>...</td>\n",
       "      <td>...</td>\n",
       "      <td>...</td>\n",
       "      <td>...</td>\n",
       "      <td>...</td>\n",
       "      <td>...</td>\n",
       "    </tr>\n",
       "    <tr>\n",
       "      <th>11934</th>\n",
       "      <td>665</td>\n",
       "      <td>Spot-01</td>\n",
       "      <td>65235-25800</td>\n",
       "      <td>2020-04-07</td>\n",
       "      <td>0.7</td>\n",
       "      <td>0.7</td>\n",
       "      <td>2.37</td>\n",
       "      <td>14.55</td>\n",
       "      <td>2.702</td>\n",
       "      <td>72.0</td>\n",
       "    </tr>\n",
       "    <tr>\n",
       "      <th>11935</th>\n",
       "      <td>666</td>\n",
       "      <td>Spot-01</td>\n",
       "      <td>65235-25800</td>\n",
       "      <td>2020-04-07</td>\n",
       "      <td>0.7</td>\n",
       "      <td>0.7</td>\n",
       "      <td>2.37</td>\n",
       "      <td>14.60</td>\n",
       "      <td>2.712</td>\n",
       "      <td>72.0</td>\n",
       "    </tr>\n",
       "    <tr>\n",
       "      <th>11936</th>\n",
       "      <td>667</td>\n",
       "      <td>Spot-01</td>\n",
       "      <td>65235-25800</td>\n",
       "      <td>2020-04-07</td>\n",
       "      <td>0.7</td>\n",
       "      <td>0.7</td>\n",
       "      <td>2.37</td>\n",
       "      <td>14.60</td>\n",
       "      <td>2.712</td>\n",
       "      <td>71.0</td>\n",
       "    </tr>\n",
       "    <tr>\n",
       "      <th>11937</th>\n",
       "      <td>668</td>\n",
       "      <td>Spot-01</td>\n",
       "      <td>65235-25800</td>\n",
       "      <td>2020-04-07</td>\n",
       "      <td>0.7</td>\n",
       "      <td>0.7</td>\n",
       "      <td>2.35</td>\n",
       "      <td>14.53</td>\n",
       "      <td>2.712</td>\n",
       "      <td>71.0</td>\n",
       "    </tr>\n",
       "    <tr>\n",
       "      <th>11938</th>\n",
       "      <td>669</td>\n",
       "      <td>Spot-01</td>\n",
       "      <td>65235-25800</td>\n",
       "      <td>2020-04-07</td>\n",
       "      <td>0.7</td>\n",
       "      <td>0.7</td>\n",
       "      <td>2.35</td>\n",
       "      <td>14.53</td>\n",
       "      <td>2.712</td>\n",
       "      <td>71.0</td>\n",
       "    </tr>\n",
       "  </tbody>\n",
       "</table>\n",
       "<p>11939 rows × 10 columns</p>\n",
       "</div>"
      ],
      "text/plain": [
       "       idx Machine_Name      Item No working time  Thickness 1(mm)  \\\n",
       "0        1      Spot-01  65235-25800   2020-03-24              0.7   \n",
       "1        2      Spot-01  65235-25800   2020-03-24              0.7   \n",
       "2        3      Spot-01  65235-25800   2020-03-24              0.7   \n",
       "3        4      Spot-01  65235-25800   2020-03-24              0.7   \n",
       "4        5      Spot-01  65235-25800   2020-03-24              0.7   \n",
       "...    ...          ...          ...          ...              ...   \n",
       "11934  665      Spot-01  65235-25800   2020-04-07              0.7   \n",
       "11935  666      Spot-01  65235-25800   2020-04-07              0.7   \n",
       "11936  667      Spot-01  65235-25800   2020-04-07              0.7   \n",
       "11937  668      Spot-01  65235-25800   2020-04-07              0.7   \n",
       "11938  669      Spot-01  65235-25800   2020-04-07              0.7   \n",
       "\n",
       "       Thickness 2(mm)  weld force(bar)  weld current(kA)  weld Voltage(v)  \\\n",
       "0                  0.7             2.33             14.57            2.701   \n",
       "1                  0.7             2.36             14.57            2.701   \n",
       "2                  0.7             2.37             14.54            2.703   \n",
       "3                  0.7             2.37             14.54            2.703   \n",
       "4                  0.7             2.36             14.56            2.704   \n",
       "...                ...              ...               ...              ...   \n",
       "11934              0.7             2.37             14.55            2.702   \n",
       "11935              0.7             2.37             14.60            2.712   \n",
       "11936              0.7             2.37             14.60            2.712   \n",
       "11937              0.7             2.35             14.53            2.712   \n",
       "11938              0.7             2.35             14.53            2.712   \n",
       "\n",
       "       weld time(ms)  \n",
       "0               72.0  \n",
       "1               72.0  \n",
       "2               71.0  \n",
       "3               72.0  \n",
       "4               72.0  \n",
       "...              ...  \n",
       "11934           72.0  \n",
       "11935           72.0  \n",
       "11936           71.0  \n",
       "11937           71.0  \n",
       "11938           71.0  \n",
       "\n",
       "[11939 rows x 10 columns]"
      ]
     },
     "execution_count": 1,
     "metadata": {},
     "output_type": "execute_result"
    }
   ],
   "source": [
    "from pandas import read_excel\n",
    "read_excel('./data/Welding Data Set_01.xlsx')"
   ]
  },
  {
   "cell_type": "code",
   "execution_count": 2,
   "metadata": {
    "execution": {
     "iopub.execute_input": "2021-12-06T07:17:47.856689Z",
     "iopub.status.busy": "2021-12-06T07:17:47.856144Z",
     "iopub.status.idle": "2021-12-06T07:17:49.468093Z",
     "shell.execute_reply": "2021-12-06T07:17:49.466911Z",
     "shell.execute_reply.started": "2021-12-06T07:17:47.856645Z"
    }
   },
   "outputs": [],
   "source": [
    "## 필요한 패키지 설치\n",
    "from torch.utils.data import DataLoader\n",
    "from torch.utils.data import TensorDataset\n",
    "import torch\n",
    "import numpy as np\n",
    "import pandas as pd\n",
    "import sklearn.metrics as metric\n",
    "from sklearn import preprocessing\n",
    "import torch.nn as nn\n",
    "import matplotlib.pyplot as plt"
   ]
  },
  {
   "cell_type": "code",
   "execution_count": 3,
   "metadata": {
    "execution": {
     "iopub.execute_input": "2021-12-06T07:17:49.470194Z",
     "iopub.status.busy": "2021-12-06T07:17:49.470044Z",
     "iopub.status.idle": "2021-12-06T07:17:51.677690Z",
     "shell.execute_reply": "2021-12-06T07:17:51.676801Z",
     "shell.execute_reply.started": "2021-12-06T07:17:49.470194Z"
    }
   },
   "outputs": [
    {
     "data": {
      "text/html": [
       "<div>\n",
       "<style scoped>\n",
       "    .dataframe tbody tr th:only-of-type {\n",
       "        vertical-align: middle;\n",
       "    }\n",
       "\n",
       "    .dataframe tbody tr th {\n",
       "        vertical-align: top;\n",
       "    }\n",
       "\n",
       "    .dataframe thead th {\n",
       "        text-align: right;\n",
       "    }\n",
       "</style>\n",
       "<table border=\"1\" class=\"dataframe\">\n",
       "  <thead>\n",
       "    <tr style=\"text-align: right;\">\n",
       "      <th></th>\n",
       "      <th>Machine_Name</th>\n",
       "      <th>Item No</th>\n",
       "      <th>working time</th>\n",
       "      <th>Thickness 1(mm)</th>\n",
       "      <th>Thickness 2(mm)</th>\n",
       "      <th>weld force(bar)</th>\n",
       "      <th>weld current(kA)</th>\n",
       "      <th>weld Voltage(v)</th>\n",
       "      <th>weld time(ms)</th>\n",
       "    </tr>\n",
       "    <tr>\n",
       "      <th>idx</th>\n",
       "      <th></th>\n",
       "      <th></th>\n",
       "      <th></th>\n",
       "      <th></th>\n",
       "      <th></th>\n",
       "      <th></th>\n",
       "      <th></th>\n",
       "      <th></th>\n",
       "      <th></th>\n",
       "    </tr>\n",
       "  </thead>\n",
       "  <tbody>\n",
       "    <tr>\n",
       "      <th>1</th>\n",
       "      <td>Spot-01</td>\n",
       "      <td>65235-25800</td>\n",
       "      <td>2020-03-24</td>\n",
       "      <td>0.7</td>\n",
       "      <td>0.7</td>\n",
       "      <td>2.33</td>\n",
       "      <td>14.57</td>\n",
       "      <td>2.701</td>\n",
       "      <td>72.0</td>\n",
       "    </tr>\n",
       "    <tr>\n",
       "      <th>2</th>\n",
       "      <td>Spot-01</td>\n",
       "      <td>65235-25800</td>\n",
       "      <td>2020-03-24</td>\n",
       "      <td>0.7</td>\n",
       "      <td>0.7</td>\n",
       "      <td>2.36</td>\n",
       "      <td>14.57</td>\n",
       "      <td>2.701</td>\n",
       "      <td>72.0</td>\n",
       "    </tr>\n",
       "    <tr>\n",
       "      <th>3</th>\n",
       "      <td>Spot-01</td>\n",
       "      <td>65235-25800</td>\n",
       "      <td>2020-03-24</td>\n",
       "      <td>0.7</td>\n",
       "      <td>0.7</td>\n",
       "      <td>2.37</td>\n",
       "      <td>14.54</td>\n",
       "      <td>2.703</td>\n",
       "      <td>71.0</td>\n",
       "    </tr>\n",
       "    <tr>\n",
       "      <th>4</th>\n",
       "      <td>Spot-01</td>\n",
       "      <td>65235-25800</td>\n",
       "      <td>2020-03-24</td>\n",
       "      <td>0.7</td>\n",
       "      <td>0.7</td>\n",
       "      <td>2.37</td>\n",
       "      <td>14.54</td>\n",
       "      <td>2.703</td>\n",
       "      <td>72.0</td>\n",
       "    </tr>\n",
       "    <tr>\n",
       "      <th>5</th>\n",
       "      <td>Spot-01</td>\n",
       "      <td>65235-25800</td>\n",
       "      <td>2020-03-24</td>\n",
       "      <td>0.7</td>\n",
       "      <td>0.7</td>\n",
       "      <td>2.36</td>\n",
       "      <td>14.56</td>\n",
       "      <td>2.704</td>\n",
       "      <td>72.0</td>\n",
       "    </tr>\n",
       "  </tbody>\n",
       "</table>\n",
       "</div>"
      ],
      "text/plain": [
       "    Machine_Name      Item No working time  Thickness 1(mm)  Thickness 2(mm)  \\\n",
       "idx                                                                            \n",
       "1        Spot-01  65235-25800   2020-03-24              0.7              0.7   \n",
       "2        Spot-01  65235-25800   2020-03-24              0.7              0.7   \n",
       "3        Spot-01  65235-25800   2020-03-24              0.7              0.7   \n",
       "4        Spot-01  65235-25800   2020-03-24              0.7              0.7   \n",
       "5        Spot-01  65235-25800   2020-03-24              0.7              0.7   \n",
       "\n",
       "     weld force(bar)  weld current(kA)  weld Voltage(v)  weld time(ms)  \n",
       "idx                                                                     \n",
       "1               2.33             14.57            2.701           72.0  \n",
       "2               2.36             14.57            2.701           72.0  \n",
       "3               2.37             14.54            2.703           71.0  \n",
       "4               2.37             14.54            2.703           72.0  \n",
       "5               2.36             14.56            2.704           72.0  "
      ]
     },
     "execution_count": 3,
     "metadata": {},
     "output_type": "execute_result"
    }
   ],
   "source": [
    "##pandas의 read_excel함수를 사용하여 데이터 불러옴, 또한 index_col = “열 이름” 을 사용하여 인덱스 열 설정\n",
    "welding_data = pd.read_excel(\"./data/Welding Data Set_01.xlsx\", index_col =\"idx\")\n",
    "welding_data.head()\n",
    "#결과는 아래에서 확인 가능하다."
   ]
  },
  {
   "cell_type": "code",
   "execution_count": 4,
   "metadata": {
    "execution": {
     "iopub.execute_input": "2021-12-06T07:17:51.678945Z",
     "iopub.status.busy": "2021-12-06T07:17:51.677690Z",
     "iopub.status.idle": "2021-12-06T07:17:51.708382Z",
     "shell.execute_reply": "2021-12-06T07:17:51.707771Z",
     "shell.execute_reply.started": "2021-12-06T07:17:51.678945Z"
    },
    "tags": []
   },
   "outputs": [
    {
     "name": "stdout",
     "output_type": "stream",
     "text": [
      "Machine_Name Spot-01    11939\n",
      "Name: Machine_Name, dtype: int64\n",
      "Item No 65235-25800    11939\n",
      "Name: Item No, dtype: int64\n",
      "working time 2020-04-02    2000\n",
      "2020-03-31    1800\n",
      "2020-03-27    1648\n",
      "2020-03-30    1470\n",
      "2020-03-25    1352\n",
      "2020-03-24    1200\n",
      "2020-03-26    1000\n",
      "2020-04-03     800\n",
      "2020-04-07     669\n",
      "Name: working time, dtype: int64\n",
      "Thickness 1(mm) 0.7    11939\n",
      "Name: Thickness 1(mm), dtype: int64\n",
      "Thickness 2(mm) 0.7    11939\n",
      "Name: Thickness 2(mm), dtype: int64\n",
      "weld force(bar) 2.31    1237\n",
      "2.33    1062\n",
      "2.35    1047\n",
      "2.32    1036\n",
      "2.36    1030\n",
      "        ... \n",
      "2.86       4\n",
      "6.72       4\n",
      "2.23       2\n",
      "2.19       2\n",
      "2.36       2\n",
      "Name: weld force(bar), Length: 177, dtype: int64\n",
      "weld current(kA) 14.73    1284\n",
      "14.74    1276\n",
      "14.75    1002\n",
      "14.72     771\n",
      "14.59     630\n",
      "14.76     612\n",
      "14.71     553\n",
      "14.58     544\n",
      "14.60     431\n",
      "14.57     378\n",
      "14.77     350\n",
      "14.78     318\n",
      "14.70     312\n",
      "14.56     296\n",
      "14.55     278\n",
      "14.61     260\n",
      "14.80     216\n",
      "14.81     204\n",
      "14.83     192\n",
      "14.62     154\n",
      "14.85     144\n",
      "14.67     142\n",
      "14.64     132\n",
      "14.54     130\n",
      "14.93     128\n",
      "14.94     120\n",
      "14.84      96\n",
      "14.82      96\n",
      "14.68      94\n",
      "14.66      94\n",
      "14.95      74\n",
      "14.89      72\n",
      "15.07      72\n",
      "14.79      70\n",
      "14.99      64\n",
      "14.65      62\n",
      "14.53      58\n",
      "14.97      50\n",
      "14.91      48\n",
      "14.88      48\n",
      "14.69      40\n",
      "14.52      22\n",
      "14.63      22\n",
      "Name: weld current(kA), dtype: int64\n",
      "weld Voltage(v) 2.701    1249\n",
      "2.700    1164\n",
      "2.702    1089\n",
      "2.699     952\n",
      "2.703     864\n",
      "         ... \n",
      "2.830       4\n",
      "2.663       4\n",
      "2.685       4\n",
      "2.768       4\n",
      "2.689       2\n",
      "Name: weld Voltage(v), Length: 113, dtype: int64\n",
      "weld time(ms) 72.00    6750\n",
      "71.00    3735\n",
      "73.00     899\n",
      "70.00     258\n",
      "72.18      99\n",
      "72.24      88\n",
      "72.16      66\n",
      "72.20      44\n",
      "Name: weld time(ms), dtype: int64\n"
     ]
    }
   ],
   "source": [
    "## 데이터의 특성들이 어떤 값들을 가지고 있으며 몇 개씩 가지고 있는지 확인\n",
    "for feature in welding_data:\n",
    "     print(feature, welding_data[feature].value_counts()) #결과는 아래에서 확인 가능하다."
   ]
  },
  {
   "cell_type": "code",
   "execution_count": 5,
   "metadata": {
    "execution": {
     "iopub.execute_input": "2021-12-06T07:17:51.709433Z",
     "iopub.status.busy": "2021-12-06T07:17:51.709433Z",
     "iopub.status.idle": "2021-12-06T07:17:51.738380Z",
     "shell.execute_reply": "2021-12-06T07:17:51.738077Z",
     "shell.execute_reply.started": "2021-12-06T07:17:51.709433Z"
    }
   },
   "outputs": [
    {
     "data": {
      "text/html": [
       "<div>\n",
       "<style scoped>\n",
       "    .dataframe tbody tr th:only-of-type {\n",
       "        vertical-align: middle;\n",
       "    }\n",
       "\n",
       "    .dataframe tbody tr th {\n",
       "        vertical-align: top;\n",
       "    }\n",
       "\n",
       "    .dataframe thead th {\n",
       "        text-align: right;\n",
       "    }\n",
       "</style>\n",
       "<table border=\"1\" class=\"dataframe\">\n",
       "  <thead>\n",
       "    <tr style=\"text-align: right;\">\n",
       "      <th></th>\n",
       "      <th>Thickness 1(mm)</th>\n",
       "      <th>Thickness 2(mm)</th>\n",
       "      <th>weld force(bar)</th>\n",
       "      <th>weld current(kA)</th>\n",
       "      <th>weld Voltage(v)</th>\n",
       "      <th>weld time(ms)</th>\n",
       "    </tr>\n",
       "  </thead>\n",
       "  <tbody>\n",
       "    <tr>\n",
       "      <th>count</th>\n",
       "      <td>11939.0</td>\n",
       "      <td>11939.0</td>\n",
       "      <td>11939.000000</td>\n",
       "      <td>11939.000000</td>\n",
       "      <td>11939.000000</td>\n",
       "      <td>11939.000000</td>\n",
       "    </tr>\n",
       "    <tr>\n",
       "      <th>mean</th>\n",
       "      <td>0.7</td>\n",
       "      <td>0.7</td>\n",
       "      <td>2.787925</td>\n",
       "      <td>14.711208</td>\n",
       "      <td>2.704223</td>\n",
       "      <td>71.724123</td>\n",
       "    </tr>\n",
       "    <tr>\n",
       "      <th>std</th>\n",
       "      <td>0.0</td>\n",
       "      <td>0.0</td>\n",
       "      <td>1.455966</td>\n",
       "      <td>0.099000</td>\n",
       "      <td>0.024700</td>\n",
       "      <td>0.632049</td>\n",
       "    </tr>\n",
       "    <tr>\n",
       "      <th>min</th>\n",
       "      <td>0.7</td>\n",
       "      <td>0.7</td>\n",
       "      <td>1.740000</td>\n",
       "      <td>14.520000</td>\n",
       "      <td>2.464000</td>\n",
       "      <td>70.000000</td>\n",
       "    </tr>\n",
       "    <tr>\n",
       "      <th>25%</th>\n",
       "      <td>0.7</td>\n",
       "      <td>0.7</td>\n",
       "      <td>2.310000</td>\n",
       "      <td>14.610000</td>\n",
       "      <td>2.699000</td>\n",
       "      <td>71.000000</td>\n",
       "    </tr>\n",
       "    <tr>\n",
       "      <th>50%</th>\n",
       "      <td>0.7</td>\n",
       "      <td>0.7</td>\n",
       "      <td>2.340000</td>\n",
       "      <td>14.730000</td>\n",
       "      <td>2.702000</td>\n",
       "      <td>72.000000</td>\n",
       "    </tr>\n",
       "    <tr>\n",
       "      <th>75%</th>\n",
       "      <td>0.7</td>\n",
       "      <td>0.7</td>\n",
       "      <td>2.370000</td>\n",
       "      <td>14.750000</td>\n",
       "      <td>2.706000</td>\n",
       "      <td>72.000000</td>\n",
       "    </tr>\n",
       "    <tr>\n",
       "      <th>max</th>\n",
       "      <td>0.7</td>\n",
       "      <td>0.7</td>\n",
       "      <td>10.540000</td>\n",
       "      <td>15.070000</td>\n",
       "      <td>2.861000</td>\n",
       "      <td>73.000000</td>\n",
       "    </tr>\n",
       "  </tbody>\n",
       "</table>\n",
       "</div>"
      ],
      "text/plain": [
       "       Thickness 1(mm)  Thickness 2(mm)  weld force(bar)  weld current(kA)  \\\n",
       "count          11939.0          11939.0     11939.000000      11939.000000   \n",
       "mean               0.7              0.7         2.787925         14.711208   \n",
       "std                0.0              0.0         1.455966          0.099000   \n",
       "min                0.7              0.7         1.740000         14.520000   \n",
       "25%                0.7              0.7         2.310000         14.610000   \n",
       "50%                0.7              0.7         2.340000         14.730000   \n",
       "75%                0.7              0.7         2.370000         14.750000   \n",
       "max                0.7              0.7        10.540000         15.070000   \n",
       "\n",
       "       weld Voltage(v)  weld time(ms)  \n",
       "count     11939.000000   11939.000000  \n",
       "mean          2.704223      71.724123  \n",
       "std           0.024700       0.632049  \n",
       "min           2.464000      70.000000  \n",
       "25%           2.699000      71.000000  \n",
       "50%           2.702000      72.000000  \n",
       "75%           2.706000      72.000000  \n",
       "max           2.861000      73.000000  "
      ]
     },
     "execution_count": 5,
     "metadata": {},
     "output_type": "execute_result"
    }
   ],
   "source": [
    "welding_data.describe()  #결과는 아래에서 확인 가능하다."
   ]
  },
  {
   "cell_type": "code",
   "execution_count": 6,
   "metadata": {
    "execution": {
     "iopub.execute_input": "2021-12-06T07:17:51.739670Z",
     "iopub.status.busy": "2021-12-06T07:17:51.739670Z",
     "iopub.status.idle": "2021-12-06T07:17:51.753227Z",
     "shell.execute_reply": "2021-12-06T07:17:51.752727Z",
     "shell.execute_reply.started": "2021-12-06T07:17:51.739670Z"
    }
   },
   "outputs": [
    {
     "data": {
      "text/html": [
       "<div>\n",
       "<style scoped>\n",
       "    .dataframe tbody tr th:only-of-type {\n",
       "        vertical-align: middle;\n",
       "    }\n",
       "\n",
       "    .dataframe tbody tr th {\n",
       "        vertical-align: top;\n",
       "    }\n",
       "\n",
       "    .dataframe thead th {\n",
       "        text-align: right;\n",
       "    }\n",
       "</style>\n",
       "<table border=\"1\" class=\"dataframe\">\n",
       "  <thead>\n",
       "    <tr style=\"text-align: right;\">\n",
       "      <th></th>\n",
       "      <th>Thickness 1(mm)</th>\n",
       "      <th>Thickness 2(mm)</th>\n",
       "      <th>weld force(bar)</th>\n",
       "      <th>weld current(kA)</th>\n",
       "      <th>weld Voltage(v)</th>\n",
       "      <th>weld time(ms)</th>\n",
       "    </tr>\n",
       "  </thead>\n",
       "  <tbody>\n",
       "    <tr>\n",
       "      <th>Thickness 1(mm)</th>\n",
       "      <td>NaN</td>\n",
       "      <td>NaN</td>\n",
       "      <td>NaN</td>\n",
       "      <td>NaN</td>\n",
       "      <td>NaN</td>\n",
       "      <td>NaN</td>\n",
       "    </tr>\n",
       "    <tr>\n",
       "      <th>Thickness 2(mm)</th>\n",
       "      <td>NaN</td>\n",
       "      <td>NaN</td>\n",
       "      <td>NaN</td>\n",
       "      <td>NaN</td>\n",
       "      <td>NaN</td>\n",
       "      <td>NaN</td>\n",
       "    </tr>\n",
       "    <tr>\n",
       "      <th>weld force(bar)</th>\n",
       "      <td>NaN</td>\n",
       "      <td>NaN</td>\n",
       "      <td>1.000000</td>\n",
       "      <td>0.411675</td>\n",
       "      <td>0.133876</td>\n",
       "      <td>-0.005557</td>\n",
       "    </tr>\n",
       "    <tr>\n",
       "      <th>weld current(kA)</th>\n",
       "      <td>NaN</td>\n",
       "      <td>NaN</td>\n",
       "      <td>0.411675</td>\n",
       "      <td>1.000000</td>\n",
       "      <td>0.129596</td>\n",
       "      <td>-0.020933</td>\n",
       "    </tr>\n",
       "    <tr>\n",
       "      <th>weld Voltage(v)</th>\n",
       "      <td>NaN</td>\n",
       "      <td>NaN</td>\n",
       "      <td>0.133876</td>\n",
       "      <td>0.129596</td>\n",
       "      <td>1.000000</td>\n",
       "      <td>0.010169</td>\n",
       "    </tr>\n",
       "    <tr>\n",
       "      <th>weld time(ms)</th>\n",
       "      <td>NaN</td>\n",
       "      <td>NaN</td>\n",
       "      <td>-0.005557</td>\n",
       "      <td>-0.020933</td>\n",
       "      <td>0.010169</td>\n",
       "      <td>1.000000</td>\n",
       "    </tr>\n",
       "  </tbody>\n",
       "</table>\n",
       "</div>"
      ],
      "text/plain": [
       "                  Thickness 1(mm)  Thickness 2(mm)  weld force(bar)  \\\n",
       "Thickness 1(mm)               NaN              NaN              NaN   \n",
       "Thickness 2(mm)               NaN              NaN              NaN   \n",
       "weld force(bar)               NaN              NaN         1.000000   \n",
       "weld current(kA)              NaN              NaN         0.411675   \n",
       "weld Voltage(v)               NaN              NaN         0.133876   \n",
       "weld time(ms)                 NaN              NaN        -0.005557   \n",
       "\n",
       "                  weld current(kA)  weld Voltage(v)  weld time(ms)  \n",
       "Thickness 1(mm)                NaN              NaN            NaN  \n",
       "Thickness 2(mm)                NaN              NaN            NaN  \n",
       "weld force(bar)           0.411675         0.133876      -0.005557  \n",
       "weld current(kA)          1.000000         0.129596      -0.020933  \n",
       "weld Voltage(v)           0.129596         1.000000       0.010169  \n",
       "weld time(ms)            -0.020933         0.010169       1.000000  "
      ]
     },
     "execution_count": 6,
     "metadata": {},
     "output_type": "execute_result"
    }
   ],
   "source": [
    "welding_data.corr()  #결과는 아래에서 확인 가능하다."
   ]
  },
  {
   "cell_type": "code",
   "execution_count": 7,
   "metadata": {
    "execution": {
     "iopub.execute_input": "2021-12-06T07:17:51.754470Z",
     "iopub.status.busy": "2021-12-06T07:17:51.753451Z",
     "iopub.status.idle": "2021-12-06T07:17:52.716512Z",
     "shell.execute_reply": "2021-12-06T07:17:52.716013Z",
     "shell.execute_reply.started": "2021-12-06T07:17:51.754470Z"
    }
   },
   "outputs": [
    {
     "data": {
      "image/png": "[encoded data removed]",
      "text/plain": [
       "<Figure size 432x288 with 1 Axes>"
      ]
     },
     "metadata": {
      "needs_background": "light"
     },
     "output_type": "display_data"
    },
    {
     "data": {
      "image/png": "[encoded data removed]",
      "text/plain": [
       "<Figure size 432x288 with 1 Axes>"
      ]
     },
     "metadata": {
      "needs_background": "light"
     },
     "output_type": "display_data"
    },
    {
     "data": {
      "image/png": "[encoded data removed]",
      "text/plain": [
       "<Figure size 432x288 with 1 Axes>"
      ]
     },
     "metadata": {
      "needs_background": "light"
     },
     "output_type": "display_data"
    },
    {
     "data": {
      "image/png": "[encoded data removed]",
      "text/plain": [
       "<Figure size 432x288 with 1 Axes>"
      ]
     },
     "metadata": {
      "needs_background": "light"
     },
     "output_type": "display_data"
    },
    {
     "data": {
      "image/png": "[encoded data removed]",
      "text/plain": [
       "<Figure size 432x288 with 1 Axes>"
      ]
     },
     "metadata": {
      "needs_background": "light"
     },
     "output_type": "display_data"
    },
    {
     "data": {
      "image/png": "[encoded data removed]",
      "text/plain": [
       "<Figure size 432x288 with 1 Axes>"
      ]
     },
     "metadata": {
      "needs_background": "light"
     },
     "output_type": "display_data"
    },
    {
     "data": {
      "image/png": "[encoded data removed]",
      "text/plain": [
       "<Figure size 432x288 with 1 Axes>"
      ]
     },
     "metadata": {
      "needs_background": "light"
     },
     "output_type": "display_data"
    },
    {
     "data": {
      "image/png": "[encoded data removed]",
      "text/plain": [
       "<Figure size 432x288 with 1 Axes>"
      ]
     },
     "metadata": {
      "needs_background": "light"
     },
     "output_type": "display_data"
    },
    {
     "data": {
      "image/png": "[encoded data removed]",
      "text/plain": [
       "<Figure size 432x288 with 1 Axes>"
      ]
     },
     "metadata": {
      "needs_background": "light"
     },
     "output_type": "display_data"
    }
   ],
   "source": [
    "## 히스토그램을 그리기 위한 for 구문\n",
    "b = [15,15,15,15,15,25,13,17,15]\n",
    "for index, value in enumerate(welding_data.columns):\n",
    "    plt.figure(index)\n",
    "    plt.hist(welding_data[value], bins = b[index], facecolor = (144 /255,171 /255,221 /255))\n",
    "    plt.title(value)\n"
   ]
  },
  {
   "cell_type": "code",
   "execution_count": 8,
   "metadata": {
    "execution": {
     "iopub.execute_input": "2021-12-06T07:17:52.717523Z",
     "iopub.status.busy": "2021-12-06T07:17:52.717523Z",
     "iopub.status.idle": "2021-12-06T07:17:52.731691Z",
     "shell.execute_reply": "2021-12-06T07:17:52.731333Z",
     "shell.execute_reply.started": "2021-12-06T07:17:52.717523Z"
    }
   },
   "outputs": [
    {
     "data": {
      "text/html": [
       "<div>\n",
       "<style scoped>\n",
       "    .dataframe tbody tr th:only-of-type {\n",
       "        vertical-align: middle;\n",
       "    }\n",
       "\n",
       "    .dataframe tbody tr th {\n",
       "        vertical-align: top;\n",
       "    }\n",
       "\n",
       "    .dataframe thead th {\n",
       "        text-align: right;\n",
       "    }\n",
       "</style>\n",
       "<table border=\"1\" class=\"dataframe\">\n",
       "  <thead>\n",
       "    <tr style=\"text-align: right;\">\n",
       "      <th></th>\n",
       "      <th>weld force(bar)</th>\n",
       "      <th>weld current(kA)</th>\n",
       "      <th>weld Voltage(v)</th>\n",
       "      <th>weld time(ms)</th>\n",
       "    </tr>\n",
       "    <tr>\n",
       "      <th>idx</th>\n",
       "      <th></th>\n",
       "      <th></th>\n",
       "      <th></th>\n",
       "      <th></th>\n",
       "    </tr>\n",
       "  </thead>\n",
       "  <tbody>\n",
       "    <tr>\n",
       "      <th>1</th>\n",
       "      <td>2.33</td>\n",
       "      <td>14.57</td>\n",
       "      <td>2.701</td>\n",
       "      <td>72.0</td>\n",
       "    </tr>\n",
       "    <tr>\n",
       "      <th>2</th>\n",
       "      <td>2.36</td>\n",
       "      <td>14.57</td>\n",
       "      <td>2.701</td>\n",
       "      <td>72.0</td>\n",
       "    </tr>\n",
       "    <tr>\n",
       "      <th>3</th>\n",
       "      <td>2.37</td>\n",
       "      <td>14.54</td>\n",
       "      <td>2.703</td>\n",
       "      <td>71.0</td>\n",
       "    </tr>\n",
       "    <tr>\n",
       "      <th>4</th>\n",
       "      <td>2.37</td>\n",
       "      <td>14.54</td>\n",
       "      <td>2.703</td>\n",
       "      <td>72.0</td>\n",
       "    </tr>\n",
       "    <tr>\n",
       "      <th>5</th>\n",
       "      <td>2.36</td>\n",
       "      <td>14.56</td>\n",
       "      <td>2.704</td>\n",
       "      <td>72.0</td>\n",
       "    </tr>\n",
       "  </tbody>\n",
       "</table>\n",
       "</div>"
      ],
      "text/plain": [
       "     weld force(bar)  weld current(kA)  weld Voltage(v)  weld time(ms)\n",
       "idx                                                                   \n",
       "1               2.33             14.57            2.701           72.0\n",
       "2               2.36             14.57            2.701           72.0\n",
       "3               2.37             14.54            2.703           71.0\n",
       "4               2.37             14.54            2.703           72.0\n",
       "5               2.36             14.56            2.704           72.0"
      ]
     },
     "execution_count": 8,
     "metadata": {},
     "output_type": "execute_result"
    }
   ],
   "source": [
    "## 용접기 데이터에서 필요없는 부분(생산품목, 작업시간, 소재두께)들을 제외\n",
    "new_welding_data = welding_data.iloc[:, 5:]\n",
    "new_welding_data.head()  #결과는 아래에서 확인 가능하다."
   ]
  },
  {
   "cell_type": "code",
   "execution_count": 9,
   "metadata": {
    "execution": {
     "iopub.execute_input": "2021-12-06T07:17:52.732765Z",
     "iopub.status.busy": "2021-12-06T07:17:52.732765Z",
     "iopub.status.idle": "2021-12-06T07:17:52.746754Z",
     "shell.execute_reply": "2021-12-06T07:17:52.746357Z",
     "shell.execute_reply.started": "2021-12-06T07:17:52.732765Z"
    }
   },
   "outputs": [],
   "source": [
    "## sklearn의 preprocessing모듈에 들어있는 MinMaxScaler함수를 이용해 정규화 적용\n",
    "scaler = preprocessing.MinMaxScaler()\n",
    "scaler.fit(new_welding_data)\n",
    "scaled_data = scaler.transform(new_welding_data)"
   ]
  },
  {
   "cell_type": "code",
   "execution_count": 10,
   "metadata": {
    "execution": {
     "iopub.execute_input": "2021-12-06T07:17:52.747808Z",
     "iopub.status.busy": "2021-12-06T07:17:52.747808Z",
     "iopub.status.idle": "2021-12-06T07:17:52.762465Z",
     "shell.execute_reply": "2021-12-06T07:17:52.761905Z",
     "shell.execute_reply.started": "2021-12-06T07:17:52.747808Z"
    }
   },
   "outputs": [],
   "source": [
    "## AutoEncoder 클래스 구현 \n",
    "class AutoEncoder(nn.Module):\n",
    "    def __init__(self, input_size, hidden_size, output_size):\n",
    "        super(AutoEncoder, self).__init__()\n",
    "        ## initialize\n",
    "        self.input_size = input_size\n",
    "        self.hidden_size = hidden_size\n",
    "        self.output_size = output_size\n",
    "        ##오토인코더 구현\n",
    "        self.AutoEncoder = nn.Sequential(\n",
    "        ## 인코더 부분\n",
    "        nn.Linear(input_size, hidden_size[0]),\n",
    "        nn.RReLU(),\n",
    "        nn.Linear(hidden_size[0], output_size),\n",
    "        nn.RReLU(),\n",
    "        ## 디코더 부분\n",
    "        nn.Linear(output_size, hidden_size[0]),\n",
    "        nn.RReLU(),\n",
    "        nn.Linear(hidden_size[0], input_size)\n",
    "        )\n",
    "    def forward(self, inputs): \n",
    "        output =self.AutoEncoder(inputs)\n",
    "   \n",
    "        return output"
   ]
  },
  {
   "cell_type": "code",
   "execution_count": 11,
   "metadata": {
    "execution": {
     "iopub.execute_input": "2021-12-06T07:17:52.763497Z",
     "iopub.status.busy": "2021-12-06T07:17:52.762465Z",
     "iopub.status.idle": "2021-12-06T07:17:52.778068Z",
     "shell.execute_reply": "2021-12-06T07:17:52.777569Z",
     "shell.execute_reply.started": "2021-12-06T07:17:52.763497Z"
    }
   },
   "outputs": [
    {
     "name": "stdout",
     "output_type": "stream",
     "text": [
      "8470\n",
      "3469\n"
     ]
    }
   ],
   "source": [
    "##기존이 데이터를 텐서 형태로 변환, 그리고 훈련세트와 테스트세트로 나눔\n",
    "train_data = torch.Tensor(scaled_data[:8470]) ## [:8470] 처음부터 8469번까지의 데이터를 훈련세트로 지정  \n",
    "print(len(train_data))\n",
    "test_data = torch.Tensor(scaled_data[8470:]) ## [8470:] 8470번째 데이터부터 끝까지를 테스트세트로 지정\n",
    "print(len(test_data))  #결과는 아래에서 확인 가능하다."
   ]
  },
  {
   "cell_type": "code",
   "execution_count": 12,
   "metadata": {
    "execution": {
     "iopub.execute_input": "2021-12-06T07:17:52.780580Z",
     "iopub.status.busy": "2021-12-06T07:17:52.779579Z",
     "iopub.status.idle": "2021-12-06T07:17:52.793236Z",
     "shell.execute_reply": "2021-12-06T07:17:52.792706Z",
     "shell.execute_reply.started": "2021-12-06T07:17:52.779579Z"
    }
   },
   "outputs": [],
   "source": [
    "## 훈련 하이퍼파라미터\n",
    "epoch =50\n",
    "batch_size =64\n",
    "lr =0.01\n",
    "## 모델 하이퍼파라미터\n",
    "input_size =len(train_data[0])\n",
    "hidden_size = [3]\n",
    "output_size =2\n",
    "## 손실 함수로 제곱근 오차 사용\n",
    "criterion = nn.MSELoss()\n",
    "## 매개변수 조정 방식으로 Adam사용\n",
    "optimizer = torch.optim.Adam\n",
    "##오토인코더 정의\n",
    "AutoEncoder = AutoEncoder(input_size, hidden_size, output_size) "
   ]
  },
  {
   "cell_type": "code",
   "execution_count": 13,
   "metadata": {
    "execution": {
     "iopub.execute_input": "2021-12-06T07:17:52.794364Z",
     "iopub.status.busy": "2021-12-06T07:17:52.793236Z",
     "iopub.status.idle": "2021-12-06T07:17:52.807991Z",
     "shell.execute_reply": "2021-12-06T07:17:52.807492Z",
     "shell.execute_reply.started": "2021-12-06T07:17:52.794364Z"
    }
   },
   "outputs": [],
   "source": [
    "## 학습 함수에 대한 정의\n",
    "def train_net(AutoEncoder, data, criterion, epochs, lr_rate =0.01):\n",
    "## Optimizer에 대한 정의\n",
    "    optim = optimizer(AutoEncoder.parameters(), lr =lr_rate)\n",
    "## 배치 학습을 시키기 위한 데이터 변환\n",
    "    data_iter = DataLoader(data, batch_size =batch_size, shuffle =True)\n",
    "## 에포크 학습\n",
    "    for epoch in range(1, epochs +1):\n",
    "        running_loss =0.0\n",
    "        for x in data_iter:\n",
    "            ## 매개변수 0으로 초기화\n",
    "            optim.zero_grad()\n",
    "            output = AutoEncoder(x)\n",
    "            ## 입력값과 출력값간의 차이인 손실값 \n",
    "            loss = criterion(x, output)\n",
    "            ## 손실값을 기준으로 매개변수 조정\n",
    "            loss.backward()\n",
    "            optim.step()\n",
    "            running_loss += loss.item()\n",
    "            \n",
    "        ## 각 에포크마다 손실 값 표기\n",
    "        print(\"epoch: {}, loss: {:.2f}\".format(epoch, running_loss))\n",
    "    return AutoEncoder"
   ]
  },
  {
   "cell_type": "code",
   "execution_count": 14,
   "metadata": {
    "execution": {
     "iopub.execute_input": "2021-12-06T07:17:52.809001Z",
     "iopub.status.busy": "2021-12-06T07:17:52.809001Z",
     "iopub.status.idle": "2021-12-06T07:18:00.265415Z",
     "shell.execute_reply": "2021-12-06T07:18:00.265000Z",
     "shell.execute_reply.started": "2021-12-06T07:17:52.809001Z"
    },
    "tags": []
   },
   "outputs": [
    {
     "name": "stdout",
     "output_type": "stream",
     "text": [
      "epoch: 1, loss: 7.35\n",
      "epoch: 2, loss: 1.81\n",
      "epoch: 3, loss: 0.84\n",
      "epoch: 4, loss: 0.67\n",
      "epoch: 5, loss: 0.50\n",
      "epoch: 6, loss: 0.40\n",
      "epoch: 7, loss: 0.36\n",
      "epoch: 8, loss: 0.35\n",
      "epoch: 9, loss: 0.34\n",
      "epoch: 10, loss: 0.32\n",
      "epoch: 11, loss: 0.32\n",
      "epoch: 12, loss: 0.30\n",
      "epoch: 13, loss: 0.30\n",
      "epoch: 14, loss: 0.30\n",
      "epoch: 15, loss: 0.29\n",
      "epoch: 16, loss: 0.29\n",
      "epoch: 17, loss: 0.30\n",
      "epoch: 18, loss: 0.29\n",
      "epoch: 19, loss: 0.29\n",
      "epoch: 20, loss: 0.28\n",
      "epoch: 21, loss: 0.28\n",
      "epoch: 22, loss: 0.28\n",
      "epoch: 23, loss: 0.29\n",
      "epoch: 24, loss: 0.28\n",
      "epoch: 25, loss: 0.28\n",
      "epoch: 26, loss: 0.28\n",
      "epoch: 27, loss: 0.27\n",
      "epoch: 28, loss: 0.28\n",
      "epoch: 29, loss: 0.28\n",
      "epoch: 30, loss: 0.28\n",
      "epoch: 31, loss: 0.28\n",
      "epoch: 32, loss: 0.28\n",
      "epoch: 33, loss: 0.28\n",
      "epoch: 34, loss: 0.28\n",
      "epoch: 35, loss: 0.28\n",
      "epoch: 36, loss: 0.27\n",
      "epoch: 37, loss: 0.27\n",
      "epoch: 38, loss: 0.28\n",
      "epoch: 39, loss: 0.28\n",
      "epoch: 40, loss: 0.27\n",
      "epoch: 41, loss: 0.28\n",
      "epoch: 42, loss: 0.28\n",
      "epoch: 43, loss: 0.28\n",
      "epoch: 44, loss: 0.27\n",
      "epoch: 45, loss: 0.28\n",
      "epoch: 46, loss: 0.27\n",
      "epoch: 47, loss: 0.28\n",
      "epoch: 48, loss: 0.28\n",
      "epoch: 49, loss: 0.28\n",
      "epoch: 50, loss: 0.27\n"
     ]
    }
   ],
   "source": [
    "## 학습 함수를 이용한 오토인코더 학습\n",
    "AutoEncoder = train_net(AutoEncoder, train_data, criterion, epoch, lr)"
   ]
  },
  {
   "cell_type": "code",
   "execution_count": 15,
   "metadata": {
    "execution": {
     "iopub.execute_input": "2021-12-06T07:18:00.266436Z",
     "iopub.status.busy": "2021-12-06T07:18:00.266436Z",
     "iopub.status.idle": "2021-12-06T07:18:02.112494Z",
     "shell.execute_reply": "2021-12-06T07:18:02.111826Z",
     "shell.execute_reply.started": "2021-12-06T07:18:00.266436Z"
    }
   },
   "outputs": [
    {
     "name": "stdout",
     "output_type": "stream",
     "text": [
      "Threshold : 0.07766848643760092\n"
     ]
    }
   ],
   "source": [
    "## 훈련세트의 손실값 이용한 임계값 정의\n",
    "train_loss_chart = []\n",
    "for data in train_data:\n",
    "    output = AutoEncoder(data)\n",
    "    loss = criterion(output, data)\n",
    "    train_loss_chart.append(loss.item())\n",
    "    \n",
    "threshold = np.mean(train_loss_chart) + np.std(train_loss_chart)*8\n",
    "print(\"Threshold :\", threshold)  #결과는 아래에서 확인 가능하다."
   ]
  },
  {
   "cell_type": "code",
   "execution_count": 16,
   "metadata": {
    "execution": {
     "iopub.execute_input": "2021-12-06T07:18:02.112997Z",
     "iopub.status.busy": "2021-12-06T07:18:02.112997Z",
     "iopub.status.idle": "2021-12-06T07:18:02.832671Z",
     "shell.execute_reply": "2021-12-06T07:18:02.832363Z",
     "shell.execute_reply.started": "2021-12-06T07:18:02.112997Z"
    },
    "tags": []
   },
   "outputs": [
    {
     "data": {
      "text/plain": [
       "14"
      ]
     },
     "execution_count": 16,
     "metadata": {},
     "output_type": "execute_result"
    }
   ],
   "source": [
    "## 훈련세트의 손실값 이용한 임계값 정의\n",
    "test_loss_chart = []\n",
    "for data in test_data:\n",
    "    output = AutoEncoder(data)\n",
    "    loss = criterion(output, data)\n",
    "    test_loss_chart.append(loss.item())\n",
    "\n",
    "outlier = list(test_loss_chart >= threshold)\n",
    "outlier.count(True)  #결과는 아래에서 확인 가능하다."
   ]
  },
  {
   "cell_type": "code",
   "execution_count": 17,
   "metadata": {
    "execution": {
     "iopub.execute_input": "2021-12-06T07:18:02.833679Z",
     "iopub.status.busy": "2021-12-06T07:18:02.833679Z",
     "iopub.status.idle": "2021-12-06T07:18:02.847422Z",
     "shell.execute_reply": "2021-12-06T07:18:02.847422Z",
     "shell.execute_reply.started": "2021-12-06T07:18:02.833679Z"
    },
    "tags": []
   },
   "outputs": [
    {
     "data": {
      "text/plain": [
       "3469"
      ]
     },
     "execution_count": 17,
     "metadata": {},
     "output_type": "execute_result"
    }
   ],
   "source": [
    "len(test_loss_chart)"
   ]
  }
 ],
 "metadata": {
  "kernelspec": {
   "display_name": "Python 3 (ipykernel)",
   "language": "python",
   "name": "python3"
  },
  "language_info": {
   "codemirror_mode": {
    "name": "ipython",
    "version": 3
   },
   "file_extension": ".py",
   "mimetype": "text/x-python",
   "name": "python",
   "nbconvert_exporter": "python",
   "pygments_lexer": "ipython3",
   "version": "3.7.9"
  }
 },
 "nbformat": 4,
 "nbformat_minor": 4
}
